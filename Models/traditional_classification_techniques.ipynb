{
  "nbformat": 4,
  "nbformat_minor": 0,
  "metadata": {
    "colab": {
      "name": "modeling_dv.ipynb",
      "provenance": [],
      "collapsed_sections": []
    },
    "kernelspec": {
      "display_name": "Python 3",
      "language": "python",
      "name": "python3"
    },
    "language_info": {
      "codemirror_mode": {
        "name": "ipython",
        "version": 3
      },
      "file_extension": ".py",
      "mimetype": "text/x-python",
      "name": "python",
      "nbconvert_exporter": "python",
      "pygments_lexer": "ipython3",
      "version": "3.7.4"
    },
    "accelerator": "GPU"
  },
  "cells": [
    {
      "cell_type": "code",
      "metadata": {
        "colab_type": "code",
        "id": "EyPtPRIVktZE",
        "colab": {}
      },
      "source": [
        "import numpy as np \n",
        "import pandas as pd\n",
        "import matplotlib.pyplot as plt\n",
        "import seaborn as sn\n",
        "\n",
        "from pprint import pprint\n",
        "import collections\n",
        "import re\n",
        "import string\n",
        "plt.style.use('fivethirtyeight')\n",
        "import warnings\n",
        "warnings.filterwarnings('ignore')\n",
        "%matplotlib inline"
      ],
      "execution_count": 0,
      "outputs": []
    },
    {
      "cell_type": "code",
      "metadata": {
        "colab_type": "code",
        "id": "Svtr4l7Ak6iM",
        "colab": {}
      },
      "source": [
        "df = pd.read_csv(\"labeled_total.csv\", keep_default_na=False)"
      ],
      "execution_count": 0,
      "outputs": []
    },
    {
      "cell_type": "code",
      "metadata": {
        "id": "9Yk3i0FtQEu-",
        "colab_type": "code",
        "outputId": "4f7d0eb6-6868-4fcf-8b72-6010fc98b011",
        "colab": {
          "base_uri": "https://localhost:8080/",
          "height": 179
        }
      },
      "source": [
        "print(df.shape)\n",
        "df['lab_final'].value_counts()"
      ],
      "execution_count": 0,
      "outputs": [
        {
          "output_type": "stream",
          "text": [
            "(3583, 9)\n"
          ],
          "name": "stdout"
        },
        {
          "output_type": "execute_result",
          "data": {
            "text/plain": [
              "NON_D_VIOLENCE_ABOUT       1905\n",
              "NO_VIOLENCE                 954\n",
              "NON_D_VIOLENCE_DIRECTED     464\n",
              "DV_OPINION_ADVOCATE         149\n",
              "DV_OPINION_INFO_NEWS         53\n",
              "DV_STORY                     40\n",
              "DV_OPINION_DENIER            18\n",
              "Name: lab_final, dtype: int64"
            ]
          },
          "metadata": {
            "tags": []
          },
          "execution_count": 234
        }
      ]
    },
    {
      "cell_type": "markdown",
      "metadata": {
        "id": "RnLMpX1ZXvE9",
        "colab_type": "text"
      },
      "source": [
        "## Making a new Label Column\n",
        "Combining Non_DV and DV labels to form fewer classes"
      ]
    },
    {
      "cell_type": "code",
      "metadata": {
        "id": "2X74m2t9YT8d",
        "colab_type": "code",
        "colab": {}
      },
      "source": [
        "df['new_label'] = df['lab_final']"
      ],
      "execution_count": 0,
      "outputs": []
    },
    {
      "cell_type": "code",
      "metadata": {
        "id": "T0dgPQw-YPlE",
        "colab_type": "code",
        "colab": {}
      },
      "source": [
        "df['new_label'].replace(\"DV_OPINION_DENIER\",value=\"DV\",inplace=True)\n",
        "df['new_label'].replace(\"DV_OPINION_ADVOCATE\",value=\"DV\",inplace=True)\n",
        "df['new_label'].replace(\"DV_OPINION_INFO_NEWS\",value=\"DV\",inplace=True)\n",
        "df['new_label'].replace(\"NON_D_VIOLENCE_ABOUT\",value=\"Harassment\",inplace=True)\n",
        "df['new_label'].replace(\"NON_D_VIOLENCE_DIRECTED\",value=\"Harassment\",inplace=True)"
      ],
      "execution_count": 0,
      "outputs": []
    },
    {
      "cell_type": "code",
      "metadata": {
        "id": "8I-Q9jLIkMy7",
        "colab_type": "code",
        "outputId": "6bcecc05-dd81-4861-86fc-499fe48d7503",
        "colab": {
          "base_uri": "https://localhost:8080/",
          "height": 107
        }
      },
      "source": [
        "df.new_label.value_counts()"
      ],
      "execution_count": 0,
      "outputs": [
        {
          "output_type": "execute_result",
          "data": {
            "text/plain": [
              "Harassment     2369\n",
              "NO_VIOLENCE     954\n",
              "DV              220\n",
              "DV_STORY         40\n",
              "Name: new_label, dtype: int64"
            ]
          },
          "metadata": {
            "tags": []
          },
          "execution_count": 237
        }
      ]
    },
    {
      "cell_type": "code",
      "metadata": {
        "id": "y7zwh2FmRUoF",
        "colab_type": "code",
        "colab": {}
      },
      "source": [
        "from sklearn import preprocessing\n",
        "from sklearn.model_selection import train_test_split\n",
        "from sklearn.pipeline import Pipeline\n",
        "from tqdm import tqdm"
      ],
      "execution_count": 0,
      "outputs": []
    },
    {
      "cell_type": "markdown",
      "metadata": {
        "id": "pbL0JBbcmE4e",
        "colab_type": "text"
      },
      "source": [
        "## Using Multilingual Embedding"
      ]
    },
    {
      "cell_type": "code",
      "metadata": {
        "colab_type": "code",
        "id": "Ql41SupylyVE",
        "colab": {}
      },
      "source": [
        "# Use the following statement to install tensorflow-text otherwise the embedding won't load\n",
        "#!pip install tensorflow-text==2.0.0 --user"
      ],
      "execution_count": 0,
      "outputs": []
    },
    {
      "cell_type": "code",
      "metadata": {
        "colab_type": "code",
        "id": "0cteut22lyVU",
        "colab": {}
      },
      "source": [
        "import tensorflow as tf\n",
        "import tensorflow_hub as hub\n",
        "import tensorflow_text as text"
      ],
      "execution_count": 0,
      "outputs": []
    },
    {
      "cell_type": "code",
      "metadata": {
        "colab_type": "code",
        "id": "sDDLpr9ilyVc",
        "colab": {}
      },
      "source": [
        "# use df.lab_final for original labels\n",
        "train, test, y_train, y_test = train_test_split(df.text, \n",
        "                                                df.new_label, \n",
        "                                                test_size=0.15, \n",
        "                                                random_state=42, \n",
        "                                                stratify=df.new_label)"
      ],
      "execution_count": 0,
      "outputs": []
    },
    {
      "cell_type": "code",
      "metadata": {
        "colab_type": "code",
        "id": "K7iw1HzklyVi",
        "colab": {}
      },
      "source": [
        "embedding = hub.load(\"https://tfhub.dev/google/universal-sentence-encoder-multilingual-large/3\")"
      ],
      "execution_count": 0,
      "outputs": []
    },
    {
      "cell_type": "code",
      "metadata": {
        "colab_type": "code",
        "id": "UzHuPyz9lyVo",
        "colab": {}
      },
      "source": [
        "def get_embedding(sen):\n",
        "  encoding = embedding(sen)\n",
        "  proper_encoding = tf.reshape(encoding, [-1]).numpy()\n",
        "  return proper_encoding"
      ],
      "execution_count": 0,
      "outputs": []
    },
    {
      "cell_type": "code",
      "metadata": {
        "colab_type": "code",
        "outputId": "0b84a38a-08ed-4771-e174-3a51d04207d7",
        "id": "UdIFVVs3lyVt",
        "colab": {
          "base_uri": "https://localhost:8080/",
          "height": 53
        }
      },
      "source": [
        "x_train = []\n",
        "for sentence in tqdm(train.values):\n",
        "    x_train.append(get_embedding(sentence))\n",
        "\n",
        "x_train = np.array(x_train)\n",
        "\n",
        "\n",
        "x_test = []\n",
        "for sentence in tqdm(test.values):\n",
        "    x_test.append(get_embedding(sentence))\n",
        "\n",
        "x_test = np.array(x_test)"
      ],
      "execution_count": 0,
      "outputs": [
        {
          "output_type": "stream",
          "text": [
            "100%|██████████| 3045/3045 [04:29<00:00, 11.29it/s]\n",
            "100%|██████████| 538/538 [00:47<00:00, 11.36it/s]\n"
          ],
          "name": "stderr"
        }
      ]
    },
    {
      "cell_type": "code",
      "metadata": {
        "colab_type": "code",
        "outputId": "05d7667a-9463-47b9-bd5c-d90ce4a4bd73",
        "id": "L5neFm_OlyVy",
        "colab": {
          "base_uri": "https://localhost:8080/",
          "height": 35
        }
      },
      "source": [
        "len(x_train)"
      ],
      "execution_count": 0,
      "outputs": [
        {
          "output_type": "execute_result",
          "data": {
            "text/plain": [
              "3045"
            ]
          },
          "metadata": {
            "tags": []
          },
          "execution_count": 240
        }
      ]
    },
    {
      "cell_type": "markdown",
      "metadata": {
        "id": "ZQfK3xRbNm6w",
        "colab_type": "text"
      },
      "source": [
        "## Modeling starts :"
      ]
    },
    {
      "cell_type": "code",
      "metadata": {
        "id": "zMcD_eIDYPoB",
        "colab_type": "code",
        "colab": {}
      },
      "source": [
        "from sklearn.metrics import classification_report, confusion_matrix, accuracy_score, f1_score, recall_score, precision_score\n",
        "from sklearn.metrics import matthews_corrcoef"
      ],
      "execution_count": 0,
      "outputs": []
    },
    {
      "cell_type": "code",
      "metadata": {
        "id": "Bw0qBEcwIid0",
        "colab_type": "code",
        "colab": {}
      },
      "source": [
        "def evaluate_model(y_test, predicted_test):\n",
        "    print ('Accuracy:', accuracy_score(y_test, predicted_test))\n",
        "    print ('F1 score:', f1_score(y_test, predicted_test,average='weighted'))\n",
        "    print ('Recall:', recall_score(y_test, predicted_test,average='weighted'))\n",
        "    print ('Precision:', precision_score(y_test, predicted_test,average='weighted'))\n",
        "    print('MCC: ',matthews_corrcoef(y_test, predicted_test))\n",
        "    print ('\\n Classification Report:\\n', classification_report(y_test, predicted_test))"
      ],
      "execution_count": 0,
      "outputs": []
    },
    {
      "cell_type": "markdown",
      "metadata": {
        "id": "LRs7RRMYtn4h",
        "colab_type": "text"
      },
      "source": [
        "### Oversampling - SKIP\n",
        "Didn't work well hence not using as of now <br />\n",
        "Can be skipped if deemed unfit. Try Undersampling"
      ]
    },
    {
      "cell_type": "code",
      "metadata": {
        "id": "rPqnpJv_f9HD",
        "colab_type": "code",
        "colab": {}
      },
      "source": [
        "from imblearn.over_sampling import SMOTE\n",
        "from imblearn.over_sampling import RandomOverSampler"
      ],
      "execution_count": 0,
      "outputs": []
    },
    {
      "cell_type": "code",
      "metadata": {
        "id": "VXKpvP2nf-zg",
        "colab_type": "code",
        "colab": {}
      },
      "source": [
        "sm = SMOTE(random_state=42,k_neighbors=2,sampling_strategy='minority')\n",
        "x_train, y_train = sm.fit_resample(x_train, y_train)"
      ],
      "execution_count": 0,
      "outputs": []
    },
    {
      "cell_type": "code",
      "metadata": {
        "id": "BvSLHrW7jhhk",
        "colab_type": "code",
        "colab": {}
      },
      "source": [
        "ros = RandomOverSampler(random_state=42,sampling_strategy='minority')\n",
        "x_train, y_train = ros.fit_resample(x_train, y_train)"
      ],
      "execution_count": 0,
      "outputs": []
    },
    {
      "cell_type": "code",
      "metadata": {
        "id": "hvu2Qw2igt-Q",
        "colab_type": "code",
        "outputId": "ccb2df55-0d90-47a7-f2dd-f53aadca088d",
        "colab": {
          "base_uri": "https://localhost:8080/",
          "height": 179
        }
      },
      "source": [
        "sm.get_params()"
      ],
      "execution_count": 0,
      "outputs": [
        {
          "output_type": "execute_result",
          "data": {
            "text/plain": [
              "{'k_neighbors': 2,\n",
              " 'kind': 'deprecated',\n",
              " 'm_neighbors': 'deprecated',\n",
              " 'n_jobs': 1,\n",
              " 'out_step': 'deprecated',\n",
              " 'random_state': 42,\n",
              " 'ratio': None,\n",
              " 'sampling_strategy': 'minority',\n",
              " 'svm_estimator': 'deprecated'}"
            ]
          },
          "metadata": {
            "tags": []
          },
          "execution_count": 138
        }
      ]
    },
    {
      "cell_type": "markdown",
      "metadata": {
        "id": "6NhyTcxmuoWS",
        "colab_type": "text"
      },
      "source": [
        "## Training Phase Starts :"
      ]
    },
    {
      "cell_type": "code",
      "metadata": {
        "id": "grWIaeGgZPQz",
        "colab_type": "code",
        "colab": {}
      },
      "source": [
        "from sklearn.model_selection import GridSearchCV"
      ],
      "execution_count": 0,
      "outputs": []
    },
    {
      "cell_type": "code",
      "metadata": {
        "id": "AfMFPI60aAqx",
        "colab_type": "code",
        "colab": {}
      },
      "source": [
        "def param_selection(classifier, param_grid, X, y, nfolds):\n",
        "  grid_search = GridSearchCV(classifier, param_grid, cv=nfolds,scoring='f1_weighted')\n",
        "  grid_search.fit(X, y)\n",
        "  grid_search.best_params_\n",
        "  return grid_search"
      ],
      "execution_count": 0,
      "outputs": []
    },
    {
      "cell_type": "code",
      "metadata": {
        "id": "Rt_HOTnYaasd",
        "colab_type": "code",
        "outputId": "84ebced2-fe1f-45e0-b2c3-63dfff5ce6bf",
        "colab": {
          "base_uri": "https://localhost:8080/",
          "height": 467
        }
      },
      "source": [
        "from sklearn.ensemble import RandomForestClassifier\n",
        "param_grid = { \n",
        "    'n_estimators': [10, 30, 60, 80, 100, 120, 150]\n",
        "}\n",
        "# 'n_estimators': [100, 200, 300, 400, 500]\n",
        "#'max_depth' : [4,5,6,7,8]\n",
        "#'max_features': ['auto', 'sqrt', 'log2'],\n",
        "#'criterion' :['gini', 'entropy']\n",
        "\n",
        "model = param_selection(RandomForestClassifier(random_state=42, class_weight='balanced'), param_grid, x_train, y_train, 5)\n",
        "print(model.best_params_)\n",
        "predicted_test = model.predict(x_test)\n",
        "evaluate_model(y_test, predicted_test)\n",
        "\n",
        "#labels = ['NON_D_VIOLENCE_ABOUT', 'NON_D_VIOLENCE_DIRECTED','DV_OPINION_ADVOCATE','DV_OPINION_INFO_NEWS','NO_VIOLENCE','DV_OPINION_DENIER','DV_STORY'] \n",
        "labels = ['DV','DV_STORY','Harassment','NO_VIOLENCE'] \n",
        "cm = confusion_matrix(y_test, predicted_test,labels)\n",
        "print('Confusion Matrix:')\n",
        "print(labels)\n",
        "print(cm)"
      ],
      "execution_count": 0,
      "outputs": [
        {
          "output_type": "stream",
          "text": [
            "{'n_estimators': 30}\n",
            "Accuracy: 0.741635687732342\n",
            "F1 score: 0.6898455670233717\n",
            "Recall: 0.741635687732342\n",
            "Precision: 0.7721500777894129\n",
            "MCC:  0.4044243053528557\n",
            "\n",
            " Classification Report:\n",
            "               precision    recall  f1-score   support\n",
            "\n",
            "          DV       1.00      0.12      0.22        33\n",
            "    DV_STORY       0.00      0.00      0.00         6\n",
            "  Harassment       0.73      0.98      0.83       356\n",
            " NO_VIOLENCE       0.87      0.32      0.47       143\n",
            "\n",
            "    accuracy                           0.74       538\n",
            "   macro avg       0.65      0.36      0.38       538\n",
            "weighted avg       0.77      0.74      0.69       538\n",
            "\n",
            "Confusion Matrix:\n",
            "['DV', 'DV_STORY', 'Harassment', 'NO_VIOLENCE']\n",
            "[[  4   0  29   0]\n",
            " [  0   0   6   0]\n",
            " [  0   0 349   7]\n",
            " [  0   0  97  46]]\n"
          ],
          "name": "stdout"
        }
      ]
    },
    {
      "cell_type": "code",
      "metadata": {
        "id": "MFdO0seYeb0o",
        "colab_type": "code",
        "outputId": "9f22098e-a6ca-4890-fb8f-8d5a919bf936",
        "colab": {
          "base_uri": "https://localhost:8080/",
          "height": 467
        }
      },
      "source": [
        "from sklearn.svm import SVC\n",
        "param_grid = {'C': [2.6,3,3.1,3.2,3.3,3.4]}\n",
        "#[0.2,0.6,1,1.2,1.5,1.8,2,2.2,2.4,2.6]\n",
        "model = param_selection(SVC(kernel='linear'), param_grid, x_train, y_train, 5)\n",
        "print(model.best_params_)\n",
        "predicted_test = model.predict(x_test)\n",
        "evaluate_model(y_test, predicted_test)\n",
        "#labels = ['NON_D_VIOLENCE_ABOUT', 'NON_D_VIOLENCE_DIRECTED','DV_OPINION_ADVOCATE','DV_OPINION_INFO_NEWS','NO_VIOLENCE','DV_OPINION_DENIER','DV_STORY'] \n",
        "labels = ['DV','DV_STORY','Harassment','NO_VIOLENCE'] \n",
        "cm = confusion_matrix(y_test, predicted_test,labels)\n",
        "print('Confusion Matrix:')\n",
        "print(labels)\n",
        "print(cm)"
      ],
      "execution_count": 0,
      "outputs": [
        {
          "output_type": "stream",
          "text": [
            "{'C': 3.2}\n",
            "Accuracy: 0.8122676579925651\n",
            "F1 score: 0.801048916092298\n",
            "Recall: 0.8122676579925651\n",
            "Precision: 0.8084766121737972\n",
            "MCC:  0.5890163336785457\n",
            "\n",
            " Classification Report:\n",
            "               precision    recall  f1-score   support\n",
            "\n",
            "          DV       0.83      0.45      0.59        33\n",
            "    DV_STORY       0.50      0.17      0.25         6\n",
            "  Harassment       0.82      0.93      0.87       356\n",
            " NO_VIOLENCE       0.79      0.62      0.70       143\n",
            "\n",
            "    accuracy                           0.81       538\n",
            "   macro avg       0.74      0.54      0.60       538\n",
            "weighted avg       0.81      0.81      0.80       538\n",
            "\n",
            "Confusion Matrix:\n",
            "['DV', 'DV_STORY', 'Harassment', 'NO_VIOLENCE']\n",
            "[[ 15   0  17   1]\n",
            " [  0   1   5   0]\n",
            " [  1   0 332  23]\n",
            " [  2   1  51  89]]\n"
          ],
          "name": "stdout"
        }
      ]
    },
    {
      "cell_type": "code",
      "metadata": {
        "id": "uKZUnGtmLzwI",
        "colab_type": "code",
        "outputId": "8d8a21b4-9735-4262-98ea-9996bd88bae5",
        "colab": {
          "base_uri": "https://localhost:8080/",
          "height": 467
        }
      },
      "source": [
        "param_grid = {'C': [1.07], 'gamma' : [2.075]}\n",
        "model = param_selection(SVC(kernel='rbf'), param_grid, x_train, y_train, 5)\n",
        "print(model.best_params_)\n",
        "predicted_test = model.predict(x_test)\n",
        "evaluate_model(y_test, predicted_test)\n",
        "#labels = ['NON_D_VIOLENCE_ABOUT', 'NON_D_VIOLENCE_DIRECTED','DV_OPINION_ADVOCATE','DV_OPINION_INFO_NEWS','NO_VIOLENCE','DV_OPINION_DENIER','DV_STORY'] \n",
        "labels = ['DV','DV_STORY','Harassment','NO_VIOLENCE'] \n",
        "cm = confusion_matrix(y_test, predicted_test,labels)\n",
        "print('Confusion Matrix:')\n",
        "print(labels)\n",
        "print(cm)"
      ],
      "execution_count": 0,
      "outputs": [
        {
          "output_type": "stream",
          "text": [
            "{'C': 1.07, 'gamma': 2.075}\n",
            "Accuracy: 0.8104089219330854\n",
            "F1 score: 0.790477334875256\n",
            "Recall: 0.8104089219330854\n",
            "Precision: 0.8122642523696325\n",
            "MCC:  0.5818659680131072\n",
            "\n",
            " Classification Report:\n",
            "               precision    recall  f1-score   support\n",
            "\n",
            "          DV       0.92      0.36      0.52        33\n",
            "    DV_STORY       0.00      0.00      0.00         6\n",
            "  Harassment       0.80      0.96      0.87       356\n",
            " NO_VIOLENCE       0.86      0.57      0.68       143\n",
            "\n",
            "    accuracy                           0.81       538\n",
            "   macro avg       0.65      0.47      0.52       538\n",
            "weighted avg       0.81      0.81      0.79       538\n",
            "\n",
            "Confusion Matrix:\n",
            "['DV', 'DV_STORY', 'Harassment', 'NO_VIOLENCE']\n",
            "[[ 12   0  21   0]\n",
            " [  0   0   6   0]\n",
            " [  0   0 343  13]\n",
            " [  1   0  61  81]]\n"
          ],
          "name": "stdout"
        }
      ]
    },
    {
      "cell_type": "code",
      "metadata": {
        "id": "J6P_naOvOnlX",
        "colab_type": "code",
        "colab": {}
      },
      "source": [
        "from sklearn.linear_model import LogisticRegression\n",
        "from sklearn.neighbors import KNeighborsClassifier\n",
        "from sklearn.naive_bayes import GaussianNB\n",
        "from sklearn.tree import DecisionTreeClassifier"
      ],
      "execution_count": 0,
      "outputs": []
    },
    {
      "cell_type": "code",
      "metadata": {
        "id": "Jc-ug7msCLxO",
        "colab_type": "code",
        "outputId": "0aaaf29f-475c-4ceb-d21d-eaed2372b4bc",
        "colab": {
          "base_uri": "https://localhost:8080/",
          "height": 467
        }
      },
      "source": [
        "param_grid  = {'C': [2.4,2.5,2.6,2.7,2.8,2.9,3]}\n",
        "#[0.2,0.6,1,1.2,1.5,1.8,1.9,2]\n",
        "model = param_selection(LogisticRegression(class_weight='balanced'), param_grid, x_train,y_train, 5)\n",
        "print(model.best_params_)\n",
        "predicted_test=model.predict(x_test)\n",
        "evaluate_model(y_test, predicted_test)\n",
        "#labels = ['NON_D_VIOLENCE_ABOUT', 'NON_D_VIOLENCE_DIRECTED','DV_OPINION_ADVOCATE','DV_OPINION_INFO_NEWS','NO_VIOLENCE','DV_OPINION_DENIER','DV_STORY'] \n",
        "labels = ['DV','DV_STORY','Harassment','NO_VIOLENCE'] \n",
        "cm = confusion_matrix(y_test, predicted_test,labels)\n",
        "print('Confusion Matrix:')\n",
        "print(labels)\n",
        "print(cm)"
      ],
      "execution_count": 0,
      "outputs": [
        {
          "output_type": "stream",
          "text": [
            "{'C': 2.8}\n",
            "Accuracy: 0.7546468401486989\n",
            "F1 score: 0.7633282202361663\n",
            "Recall: 0.7546468401486989\n",
            "Precision: 0.7818985288414716\n",
            "MCC:  0.5411627518202625\n",
            "\n",
            " Classification Report:\n",
            "               precision    recall  f1-score   support\n",
            "\n",
            "          DV       0.50      0.76      0.60        33\n",
            "    DV_STORY       0.23      0.50      0.32         6\n",
            "  Harassment       0.87      0.77      0.81       356\n",
            " NO_VIOLENCE       0.65      0.73      0.69       143\n",
            "\n",
            "    accuracy                           0.75       538\n",
            "   macro avg       0.56      0.69      0.61       538\n",
            "weighted avg       0.78      0.75      0.76       538\n",
            "\n",
            "Confusion Matrix:\n",
            "['DV', 'DV_STORY', 'Harassment', 'NO_VIOLENCE']\n",
            "[[ 25   1   5   2]\n",
            " [  0   3   3   0]\n",
            " [ 21   8 273  54]\n",
            " [  4   1  33 105]]\n"
          ],
          "name": "stdout"
        }
      ]
    },
    {
      "cell_type": "code",
      "metadata": {
        "id": "-T_XWnt_CfM-",
        "colab_type": "code",
        "outputId": "3a71b6e7-f17d-49dd-a0ee-88b412c279fd",
        "colab": {
          "base_uri": "https://localhost:8080/",
          "height": 467
        }
      },
      "source": [
        "param_grid = {'max_depth' : range(1,33)}\n",
        "#'max_depth' : range(4,33)\n",
        "model = param_selection(DecisionTreeClassifier(class_weight='balanced', random_state=0), param_grid, x_train, y_train, 5)\n",
        "print(model.best_params_)\n",
        "predicted_test=model.predict(x_test)\n",
        "evaluate_model(y_test, predicted_test)\n",
        "#labels = ['NON_D_VIOLENCE_ABOUT', 'NON_D_VIOLENCE_DIRECTED','DV_OPINION_ADVOCATE','DV_OPINION_INFO_NEWS','NO_VIOLENCE','DV_OPINION_DENIER','DV_STORY'] \n",
        "labels = ['DV','DV_STORY','Harassment','NO_VIOLENCE'] \n",
        "cm = confusion_matrix(y_test, predicted_test,labels)\n",
        "print('Confusion Matrix:')\n",
        "print(labels)\n",
        "print(cm)"
      ],
      "execution_count": 0,
      "outputs": [
        {
          "output_type": "stream",
          "text": [
            "{'max_depth': 13}\n",
            "Accuracy: 0.654275092936803\n",
            "F1 score: 0.6625410251292412\n",
            "Recall: 0.654275092936803\n",
            "Precision: 0.6736865419298866\n",
            "MCC:  0.3221137103659988\n",
            "\n",
            " Classification Report:\n",
            "               precision    recall  f1-score   support\n",
            "\n",
            "          DV       0.25      0.39      0.30        33\n",
            "    DV_STORY       0.33      0.33      0.33         6\n",
            "  Harassment       0.78      0.74      0.76       356\n",
            " NO_VIOLENCE       0.52      0.52      0.52       143\n",
            "\n",
            "    accuracy                           0.65       538\n",
            "   macro avg       0.47      0.50      0.48       538\n",
            "weighted avg       0.67      0.65      0.66       538\n",
            "\n",
            "Confusion Matrix:\n",
            "['DV', 'DV_STORY', 'Harassment', 'NO_VIOLENCE']\n",
            "[[ 13   2  13   5]\n",
            " [  2   2   1   1]\n",
            " [ 29   2 263  62]\n",
            " [  9   0  60  74]]\n"
          ],
          "name": "stdout"
        }
      ]
    },
    {
      "cell_type": "code",
      "metadata": {
        "id": "aNrer1_ACkMy",
        "colab_type": "code",
        "outputId": "55472894-dcab-475b-fc02-37bee5a1d798",
        "colab": {
          "base_uri": "https://localhost:8080/",
          "height": 467
        }
      },
      "source": [
        "param_grid = {'n_neighbors' : range(2,20)}\n",
        "model = param_selection(KNeighborsClassifier(weights='distance') , param_grid, x_train, y_train, 5)\n",
        "print(model.best_params_)\n",
        "predicted_test=model.predict(x_test)\n",
        "evaluate_model(y_test, predicted_test)\n",
        "#labels = ['NON_D_VIOLENCE_ABOUT', 'NON_D_VIOLENCE_DIRECTED','DV_OPINION_ADVOCATE','DV_OPINION_INFO_NEWS','NO_VIOLENCE','DV_OPINION_DENIER','DV_STORY'] \n",
        "labels = ['DV','DV_STORY','Harassment','NO_VIOLENCE'] \n",
        "cm = confusion_matrix(y_test, predicted_test,labels)\n",
        "print('Confusion Matrix:')\n",
        "print(labels)\n",
        "print(cm)"
      ],
      "execution_count": 0,
      "outputs": [
        {
          "output_type": "stream",
          "text": [
            "{'n_neighbors': 5}\n",
            "Accuracy: 0.7620817843866171\n",
            "F1 score: 0.7444501035356337\n",
            "Recall: 0.7620817843866171\n",
            "Precision: 0.755070297221586\n",
            "MCC:  0.47214569598329065\n",
            "\n",
            " Classification Report:\n",
            "               precision    recall  f1-score   support\n",
            "\n",
            "          DV       0.64      0.48      0.55        33\n",
            "    DV_STORY       0.33      0.17      0.22         6\n",
            "  Harassment       0.77      0.92      0.84       356\n",
            " NO_VIOLENCE       0.75      0.46      0.57       143\n",
            "\n",
            "    accuracy                           0.76       538\n",
            "   macro avg       0.62      0.51      0.55       538\n",
            "weighted avg       0.76      0.76      0.74       538\n",
            "\n",
            "Confusion Matrix:\n",
            "['DV', 'DV_STORY', 'Harassment', 'NO_VIOLENCE']\n",
            "[[ 16   1  16   0]\n",
            " [  1   1   4   0]\n",
            " [  6   1 327  22]\n",
            " [  2   0  75  66]]\n"
          ],
          "name": "stdout"
        }
      ]
    },
    {
      "cell_type": "code",
      "metadata": {
        "id": "7ZjZswwBDBir",
        "colab_type": "code",
        "outputId": "a9049359-b88b-4dd6-a11c-a2e5f79ed87a",
        "colab": {
          "base_uri": "https://localhost:8080/",
          "height": 467
        }
      },
      "source": [
        "# use .toarray() with tifidf vectors not with other embeddings\n",
        "param_grid = {}\n",
        "model = param_selection(GaussianNB() , param_grid, x_train,y_train, 5)\n",
        "print(model.best_params_)\n",
        "predicted_test=model.predict(x_test)\n",
        "evaluate_model(y_test, predicted_test)\n",
        "#labels = ['NON_D_VIOLENCE_ABOUT', 'NON_D_VIOLENCE_DIRECTED','DV_OPINION_ADVOCATE','DV_OPINION_INFO_NEWS','NO_VIOLENCE','DV_OPINION_DENIER','DV_STORY'] \n",
        "labels = ['DV','DV_STORY','Harassment','NO_VIOLENCE'] \n",
        "cm = confusion_matrix(y_test, predicted_test,labels)\n",
        "print('Confusion Matrix:')\n",
        "print(labels)\n",
        "print(cm)"
      ],
      "execution_count": 0,
      "outputs": [
        {
          "output_type": "stream",
          "text": [
            "{}\n",
            "Accuracy: 0.6821561338289963\n",
            "F1 score: 0.6989654597306801\n",
            "Recall: 0.6821561338289963\n",
            "Precision: 0.763085210023418\n",
            "MCC:  0.4779068651210925\n",
            "\n",
            " Classification Report:\n",
            "               precision    recall  f1-score   support\n",
            "\n",
            "          DV       0.28      0.64      0.39        33\n",
            "    DV_STORY       0.33      0.67      0.44         6\n",
            "  Harassment       0.88      0.63      0.73       356\n",
            " NO_VIOLENCE       0.60      0.83      0.69       143\n",
            "\n",
            "    accuracy                           0.68       538\n",
            "   macro avg       0.52      0.69      0.57       538\n",
            "weighted avg       0.76      0.68      0.70       538\n",
            "\n",
            "Confusion Matrix:\n",
            "['DV', 'DV_STORY', 'Harassment', 'NO_VIOLENCE']\n",
            "[[ 21   2   8   2]\n",
            " [  0   4   2   0]\n",
            " [ 48   6 224  78]\n",
            " [  5   0  20 118]]\n"
          ],
          "name": "stdout"
        }
      ]
    },
    {
      "cell_type": "markdown",
      "metadata": {
        "id": "gdEdCJ8Hthjc",
        "colab_type": "text"
      },
      "source": [
        "## Ensemble Methods - Voting"
      ]
    },
    {
      "cell_type": "code",
      "metadata": {
        "id": "dKJ5VnS2S1hP",
        "colab_type": "code",
        "outputId": "21bbdb8b-688a-4459-a0b6-509e1f1b0e19",
        "colab": {
          "base_uri": "https://localhost:8080/",
          "height": 449
        }
      },
      "source": [
        "from sklearn.ensemble import VotingClassifier\n",
        "# try both soft and hard voting\n",
        "model=VotingClassifier(estimators=[('KNN',KNeighborsClassifier(n_neighbors=5)),\n",
        "                                   ('LinSVM',SVC(kernel='linear',C=3.2,probability=True)),\n",
        "                                   ('RBF',SVC(kernel='rbf',C=1.07,gamma=2.075,probability=True))\n",
        "                                   ], \n",
        "                       voting='soft').fit(x_train,y_train)\n",
        "#('LR',LogisticRegression(C=2.8))\n",
        "#('RBF',SVC(kernel='rbf',C=1.07,gamma=2.075,probability=True)),\n",
        "#('RFor',RandomForestClassifier(n_estimators=30,random_state=0)),\n",
        "#('DT',DecisionTreeClassifier(max_depth=13)),\n",
        "#('NB',GaussianNB())\n",
        "predicted_test=model.predict(x_test)\n",
        "evaluate_model(y_test, predicted_test)\n",
        "#labels = ['NON_D_VIOLENCE_ABOUT', 'NON_D_VIOLENCE_DIRECTED','DV_OPINION_ADVOCATE','DV_OPINION_INFO_NEWS','NO_VIOLENCE','DV_OPINION_DENIER','DV_STORY'] \n",
        "labels = ['DV','DV_STORY','Harassment','NO_VIOLENCE'] \n",
        "cm = confusion_matrix(y_test, predicted_test,labels)\n",
        "print('Confusion Matrix:')\n",
        "print(labels)\n",
        "print(cm)"
      ],
      "execution_count": 0,
      "outputs": [
        {
          "output_type": "stream",
          "text": [
            "Accuracy: 0.8234200743494424\n",
            "F1 score: 0.8099742686483742\n",
            "Recall: 0.8234200743494424\n",
            "Precision: 0.8283019458689672\n",
            "MCC:  0.6164193027197981\n",
            "\n",
            " Classification Report:\n",
            "               precision    recall  f1-score   support\n",
            "\n",
            "          DV       0.89      0.52      0.65        33\n",
            "    DV_STORY       0.33      0.17      0.22         6\n",
            "  Harassment       0.81      0.96      0.88       356\n",
            " NO_VIOLENCE       0.87      0.57      0.69       143\n",
            "\n",
            "    accuracy                           0.82       538\n",
            "   macro avg       0.73      0.55      0.61       538\n",
            "weighted avg       0.83      0.82      0.81       538\n",
            "\n",
            "Confusion Matrix:\n",
            "['DV', 'DV_STORY', 'Harassment', 'NO_VIOLENCE']\n",
            "[[ 17   1  15   0]\n",
            " [  1   1   4   0]\n",
            " [  0   1 343  12]\n",
            " [  1   0  60  82]]\n"
          ],
          "name": "stdout"
        }
      ]
    },
    {
      "cell_type": "code",
      "metadata": {
        "id": "Bi5h2eyTOS1a",
        "colab_type": "code",
        "outputId": "3dc2b5eb-455d-44ff-b9c7-afec4ecf1f0b",
        "colab": {
          "base_uri": "https://localhost:8080/",
          "height": 595
        }
      },
      "source": [
        "from sklearn.ensemble import BaggingClassifier\n",
        "#param_grid = {'n_estimators' : [300], 'base_estimator__n_neighbors' : [9]}\n",
        "param_grid = {}\n",
        "model = param_selection(BaggingClassifier(base_estimator=KNeighborsClassifier(),random_state=0), param_grid, x_train, y_train, 5)\n",
        "print(model.best_params_)\n",
        "predicted_test=model.predict(x_test)\n",
        "evaluate_model(y_test, predicted_test)\n",
        "labels = ['NON_D_VIOLENCE_ABOUT', 'NON_D_VIOLENCE_DIRECTED','DV_OPINION_ADVOCATE','DV_OPINION_INFO_NEWS','NO_VIOLENCE','DV_OPINION_DENIER','DV_STORY'] \n",
        "#labels = ['DV','DV_STORY','Harassment','NO_VIOLENCE'] \n",
        "cm = confusion_matrix(y_test, predicted_test,labels)\n",
        "print('Confusion Matrix:')\n",
        "print(labels)\n",
        "print(cm)"
      ],
      "execution_count": 0,
      "outputs": [
        {
          "output_type": "stream",
          "text": [
            "{}\n",
            "Accuracy: 0.7655502392344498\n",
            "F1 score: 0.751717257678634\n",
            "Recall: 0.7655502392344498\n",
            "Precision: 0.7682249003442927\n",
            "MCC:  0.5752477926507771\n",
            "\n",
            " Classification Report:\n",
            "                          precision    recall  f1-score   support\n",
            "\n",
            "    DV_OPINION_ADVOCATE       0.83      0.45      0.59        22\n",
            "      DV_OPINION_DENIER       1.00      0.50      0.67         2\n",
            "   DV_OPINION_INFO_NEWS       0.67      0.29      0.40         7\n",
            "               DV_STORY       0.20      0.20      0.20         5\n",
            "   NON_D_VIOLENCE_ABOUT       0.77      0.93      0.84       246\n",
            "NON_D_VIOLENCE_DIRECTED       0.76      0.46      0.58        41\n",
            "            NO_VIOLENCE       0.80      0.62      0.70        95\n",
            "\n",
            "               accuracy                           0.77       418\n",
            "              macro avg       0.72      0.49      0.57       418\n",
            "           weighted avg       0.77      0.77      0.75       418\n",
            "\n",
            "Confusion Matrix:\n",
            "['NON_D_VIOLENCE_ABOUT', 'NON_D_VIOLENCE_DIRECTED', 'DV_OPINION_ADVOCATE', 'DV_OPINION_INFO_NEWS', 'NO_VIOLENCE', 'DV_OPINION_DENIER', 'DV_STORY']\n",
            "[[228   4   2   1  10   0   1]\n",
            " [ 21  19   0   0   1   0   0]\n",
            " [  9   1  10   0   2   0   0]\n",
            " [  5   0   0   2   0   0   0]\n",
            " [ 33   1   0   0  59   0   2]\n",
            " [  0   0   0   0   0   1   1]\n",
            " [  2   0   0   0   2   0   1]]\n"
          ],
          "name": "stdout"
        }
      ]
    },
    {
      "cell_type": "code",
      "metadata": {
        "id": "hMNLa39dRdZ_",
        "colab_type": "code",
        "outputId": "3b8a9eb2-fa49-4c18-ff8e-47125a1d473b",
        "colab": {
          "base_uri": "https://localhost:8080/",
          "height": 595
        }
      },
      "source": [
        "#param_grid = {'n_estimators' : [300]}\n",
        "param_grid = {}\n",
        "model = param_selection(BaggingClassifier(base_estimator=DecisionTreeClassifier(class_weight='balanced'),random_state=0), param_grid, x_train, y_train, 5)\n",
        "print(model.best_params_)\n",
        "predicted_test=model.predict(x_test)\n",
        "evaluate_model(y_test, predicted_test)\n",
        "labels = ['NON_D_VIOLENCE_ABOUT', 'NON_D_VIOLENCE_DIRECTED','DV_OPINION_ADVOCATE','DV_OPINION_INFO_NEWS','NO_VIOLENCE','DV_OPINION_DENIER','DV_STORY'] \n",
        "#labels = ['DV','DV_STORY','Harassment','NO_VIOLENCE'] \n",
        "cm = confusion_matrix(y_test, predicted_test,labels)\n",
        "print('Confusion Matrix:')\n",
        "print(labels)\n",
        "print(cm)"
      ],
      "execution_count": 0,
      "outputs": [
        {
          "output_type": "stream",
          "text": [
            "{}\n",
            "Accuracy: 0.722488038277512\n",
            "F1 score: 0.675525884819036\n",
            "Recall: 0.722488038277512\n",
            "Precision: 0.6821598116075507\n",
            "MCC:  0.4791442496852054\n",
            "\n",
            " Classification Report:\n",
            "                          precision    recall  f1-score   support\n",
            "\n",
            "    DV_OPINION_ADVOCATE       0.78      0.32      0.45        22\n",
            "      DV_OPINION_DENIER       0.00      0.00      0.00         2\n",
            "   DV_OPINION_INFO_NEWS       0.50      0.14      0.22         7\n",
            "               DV_STORY       0.00      0.00      0.00         5\n",
            "   NON_D_VIOLENCE_ABOUT       0.71      0.94      0.81       246\n",
            "NON_D_VIOLENCE_DIRECTED       0.25      0.05      0.08        41\n",
            "            NO_VIOLENCE       0.85      0.63      0.72        95\n",
            "\n",
            "               accuracy                           0.72       418\n",
            "              macro avg       0.44      0.30      0.33       418\n",
            "           weighted avg       0.68      0.72      0.68       418\n",
            "\n",
            "Confusion Matrix:\n",
            "['NON_D_VIOLENCE_ABOUT', 'NON_D_VIOLENCE_DIRECTED', 'DV_OPINION_ADVOCATE', 'DV_OPINION_INFO_NEWS', 'NO_VIOLENCE', 'DV_OPINION_DENIER', 'DV_STORY']\n",
            "[[232   5   0   1   8   0   0]\n",
            " [ 38   2   0   0   1   0   0]\n",
            " [ 13   1   7   0   1   0   0]\n",
            " [  5   0   1   1   0   0   0]\n",
            " [ 34   0   1   0  60   0   0]\n",
            " [  2   0   0   0   0   0   0]\n",
            " [  4   0   0   0   1   0   0]]\n"
          ],
          "name": "stdout"
        }
      ]
    },
    {
      "cell_type": "code",
      "metadata": {
        "id": "sK0z9RbNRwAr",
        "colab_type": "code",
        "outputId": "16b8b235-7635-47e0-c006-99504d2cb283",
        "colab": {
          "base_uri": "https://localhost:8080/",
          "height": 395
        }
      },
      "source": [
        "from sklearn.ensemble import AdaBoostClassifier\n",
        "param_grid = {'n_estimators' : [300]}\n",
        "model = param_selection(AdaBoostClassifier(random_state=0), param_grid, x_train, y_train, 5)\n",
        "print(model.best_params_)\n",
        "predicted_test=model.predict(x_test)\n",
        "evaluate_model(y_test, predicted_test)\n",
        "labels = ['NON_D_VIOLENCE_ABOUT', 'NON_D_VIOLENCE_DIRECTED','DV_OPINION_ADVOCATE','DV_OPINION_INFO_NEWS','NO_VIOLENCE','DV_OPINION_DENIER','DV_STORY'] \n",
        "#labels = ['DV','DV_STORY','Harassment','NO_VIOLENCE'] \n",
        "cm = confusion_matrix(y_test, predicted_test,labels)\n",
        "print('Confusion Matrix:')\n",
        "print(labels)\n",
        "print(cm)"
      ],
      "execution_count": 0,
      "outputs": [
        {
          "output_type": "stream",
          "text": [
            "Accuracy: 0.6989247311827957\n",
            "F1 score: 0.6308399563659032\n",
            "Recall: 0.6989247311827957\n",
            "Precision: 0.6456840011261937\n",
            "MCC:  0.43856324469700453\n",
            "\n",
            " Classification Report:\n",
            "                          precision    recall  f1-score   support\n",
            "\n",
            "    DV_OPINION_ADVOCATE       0.75      0.40      0.52        15\n",
            "      DV_OPINION_DENIER       0.00      0.00      0.00         1\n",
            "   DV_OPINION_INFO_NEWS       0.00      0.00      0.00         5\n",
            "               DV_STORY       0.00      0.00      0.00         3\n",
            "   NON_D_VIOLENCE_ABOUT       0.67      0.99      0.80       164\n",
            "NON_D_VIOLENCE_DIRECTED       0.00      0.00      0.00        28\n",
            "            NO_VIOLENCE       0.93      0.43      0.59        63\n",
            "\n",
            "               accuracy                           0.70       279\n",
            "              macro avg       0.34      0.26      0.27       279\n",
            "           weighted avg       0.65      0.70      0.63       279\n",
            "\n"
          ],
          "name": "stdout"
        }
      ]
    },
    {
      "cell_type": "code",
      "metadata": {
        "id": "xhQuizmrSEZw",
        "colab_type": "code",
        "outputId": "4b980207-6dcf-4561-eb8a-7437ca2b344b",
        "colab": {
          "base_uri": "https://localhost:8080/",
          "height": 395
        }
      },
      "source": [
        "from sklearn.ensemble import GradientBoostingClassifier\n",
        "param_grid = {'n_estimators':[300]}\n",
        "model = param_selection(GradientBoostingClassifier(random_state=0), param_grid, x_train, y_train, 5)\n",
        "print(model.best_params_)\n",
        "predicted_test=model.predict(x_test)\n",
        "evaluate_model(y_test, predicted_test)\n",
        "labels = ['NON_D_VIOLENCE_ABOUT', 'NON_D_VIOLENCE_DIRECTED','DV_OPINION_ADVOCATE','DV_OPINION_INFO_NEWS','NO_VIOLENCE','DV_OPINION_DENIER','DV_STORY'] \n",
        "#labels = ['DV','DV_STORY','Harassment','NO_VIOLENCE'] \n",
        "cm = confusion_matrix(y_test, predicted_test,labels)\n",
        "print('Confusion Matrix:')\n",
        "print(labels)\n",
        "print(cm)"
      ],
      "execution_count": 0,
      "outputs": [
        {
          "output_type": "stream",
          "text": [
            "Accuracy: 0.7132616487455197\n",
            "F1 score: 0.6960922925335233\n",
            "Recall: 0.7132616487455197\n",
            "Precision: 0.6956058050460329\n",
            "MCC:  0.4799369726633697\n",
            "\n",
            " Classification Report:\n",
            "                          precision    recall  f1-score   support\n",
            "\n",
            "    DV_OPINION_ADVOCATE       0.67      0.40      0.50        15\n",
            "      DV_OPINION_DENIER       0.00      0.00      0.00         1\n",
            "   DV_OPINION_INFO_NEWS       0.50      0.20      0.29         5\n",
            "               DV_STORY       0.00      0.00      0.00         3\n",
            "   NON_D_VIOLENCE_ABOUT       0.74      0.87      0.80       164\n",
            "NON_D_VIOLENCE_DIRECTED       0.35      0.21      0.27        28\n",
            "            NO_VIOLENCE       0.80      0.70      0.75        63\n",
            "\n",
            "               accuracy                           0.71       279\n",
            "              macro avg       0.44      0.34      0.37       279\n",
            "           weighted avg       0.70      0.71      0.70       279\n",
            "\n"
          ],
          "name": "stdout"
        }
      ]
    },
    {
      "cell_type": "code",
      "metadata": {
        "id": "OTTBzQkcSbre",
        "colab_type": "code",
        "outputId": "21fd47b2-2b92-46a9-a3b4-dea44ba9e57a",
        "colab": {
          "base_uri": "https://localhost:8080/",
          "height": 341
        }
      },
      "source": [
        "import xgboost as xg\n",
        "param_grid = {'n_estimators':[300]}\n",
        "model = param_selection(xg.XGBClassifier(), param_grid, x_train, y_train, 5)\n",
        "print(model.best_params_)\n",
        "predicted_test=model.predict(x_test)\n",
        "evaluate_model(y_test, predicted_test)\n",
        "labels = ['NON_D_VIOLENCE_ABOUT', 'NON_D_VIOLENCE_DIRECTED','DV_OPINION_ADVOCATE','DV_OPINION_INFO_NEWS','NO_VIOLENCE','DV_OPINION_DENIER','DV_STORY'] \n",
        "#labels = ['DV','DV_STORY','Harassment','NO_VIOLENCE'] \n",
        "cm = confusion_matrix(y_test, predicted_test,labels)\n",
        "print('Confusion Matrix:')\n",
        "print(labels)\n",
        "print(cm)"
      ],
      "execution_count": 0,
      "outputs": [
        {
          "output_type": "stream",
          "text": [
            "Accuracy: 0.8325358851674641\n",
            "F1 score: 0.8250678392187826\n",
            "Recall: 0.8325358851674641\n",
            "Precision: 0.8209599014609325\n",
            "MCC:  0.6302045395641531\n",
            "\n",
            " Classification Report:\n",
            "               precision    recall  f1-score   support\n",
            "\n",
            "          DV       0.73      0.52      0.60        31\n",
            "    DV_STORY       0.00      0.00      0.00         5\n",
            "  Harassment       0.87      0.91      0.89       287\n",
            " NO_VIOLENCE       0.76      0.75      0.75        95\n",
            "\n",
            "    accuracy                           0.83       418\n",
            "   macro avg       0.59      0.54      0.56       418\n",
            "weighted avg       0.82      0.83      0.83       418\n",
            "\n"
          ],
          "name": "stdout"
        }
      ]
    }
  ]
}